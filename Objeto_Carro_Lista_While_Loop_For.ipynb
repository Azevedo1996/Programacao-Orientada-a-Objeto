{
  "nbformat": 4,
  "nbformat_minor": 0,
  "metadata": {
    "colab": {
      "name": " Objeto Carro - Lista - While - Loop For.ipynb",
      "provenance": [],
      "authorship_tag": "ABX9TyPfNNpumj0C/5/5KzyfdDAM",
      "include_colab_link": true
    },
    "kernelspec": {
      "name": "python3",
      "display_name": "Python 3"
    },
    "language_info": {
      "name": "python"
    }
  },
  "cells": [
    {
      "cell_type": "markdown",
      "metadata": {
        "id": "view-in-github",
        "colab_type": "text"
      },
      "source": [
        "<a href=\"https://colab.research.google.com/github/Azevedo1996/Programacao-Orientada-a-Objeto/blob/main/Objeto_Carro_Lista_While_Loop_For.ipynb\" target=\"_parent\"><img src=\"https://colab.research.google.com/assets/colab-badge.svg\" alt=\"Open In Colab\"/></a>"
      ]
    },
    {
      "cell_type": "code",
      "execution_count": null,
      "metadata": {
        "id": "83WGir4IOxdq"
      },
      "outputs": [],
      "source": [
        "class Carro(object):\n",
        "    \"\"\"\n",
        "        Este aqui é o método do contrutor! Ele sempre tem esse nome.\n",
        "        Aqui nosso construtor recebe uma referência para o objeto que está contruindo: 'self'\n",
        "        e todos os estados que serão atribuidos aos atributos.\n",
        "    \"\"\"\n",
        "    def __init__(self, cor, ano, estado, velocidade):\n",
        "        self.cor = cor\n",
        "        self.ano = ano\n",
        "        self.estado = estado\n",
        "        self.velocidade = velocidade\n",
        "        \n",
        "listaCarros = []\n",
        "cadastrar = \"s\"\n",
        "while cadastrar ==\"s\":\n",
        "    corDoUsuario = input(\"Digite a cor: \")\n",
        "    anoDoUsuario = input(\"Digite a ano: \")\n",
        "    estadoDoUsuario = input(\"Digite a estado: \")\n",
        "    velocidadeDoUsuario = input(\"Digite a velocidade: \")\n",
        "    \n",
        "    listaCarros.append(Carro(corDoUsuario, anoDoUsuario, estadoDoUsuario, velocidadeDoUsuario))\n",
        "    \n",
        "    cadastrar = input(\"Quer cadastrar mais carros?\")\n",
        "\n",
        "# EXEMPLO DE SOLICITAÇÃO DE CARATERÍSITCA DE UM UNICO ITEM -> ATRIBUTOS\n",
        "for idx, carro in enumerate(listaCarros):\n",
        "    print(idx, carro.cor)\n",
        "    print(idx, carro.ano)\n",
        "    print(idx, carro.estado)\n",
        "    print(idx, carro.velocidade)\n",
        "    print()\n",
        "\n",
        "# PINTANDO TODOS OS CARROS DE PRATA\n",
        "for carro in listaCarros: # IMPRIME TODAS AS CORES DOS CARROS\n",
        "    print(carro.cor)\n",
        "\n",
        "print()\n",
        "print(\"Printando todos os carros....\")\n",
        "print()\n",
        "\n",
        "for carro in listaCarros:\n",
        "    carro.cor = \"Prata\" # PINTA TODOS OS CARROS DE PRATA\n",
        "\n",
        "for carro in listaCarros: # IMPRIME TODAS AS CORES DOS CARROS\n",
        "    print(carro.cor)"
      ]
    }
  ]
}