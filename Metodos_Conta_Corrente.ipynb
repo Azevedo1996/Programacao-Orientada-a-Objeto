{
  "nbformat": 4,
  "nbformat_minor": 0,
  "metadata": {
    "colab": {
      "name": "Metodos Conta Corrente.ipynb",
      "provenance": [],
      "authorship_tag": "ABX9TyNcarUV9uOreftk5VHwnjex",
      "include_colab_link": true
    },
    "kernelspec": {
      "name": "python3",
      "display_name": "Python 3"
    },
    "language_info": {
      "name": "python"
    }
  },
  "cells": [
    {
      "cell_type": "markdown",
      "metadata": {
        "id": "view-in-github",
        "colab_type": "text"
      },
      "source": [
        "<a href=\"https://colab.research.google.com/github/Azevedo1996/Programacao-Orientada-a-Objeto/blob/main/Metodos_Conta_Corrente.ipynb\" target=\"_parent\"><img src=\"https://colab.research.google.com/assets/colab-badge.svg\" alt=\"Open In Colab\"/></a>"
      ]
    },
    {
      "cell_type": "code",
      "execution_count": null,
      "metadata": {
        "id": "Ngmk0RziPP9Q"
      },
      "outputs": [],
      "source": [
        "class contaCorrente(object):\n",
        "    # Similar ao carro temos um construtor com os atributos da conta corrente\n",
        "    # além da definição da fatura que vem por padrão zerada (o underline do atributo sera explicado já já, não se preocupe)\n",
        "    def __init__(self, saldo, titular, limite):\n",
        "        self.saldo = saldo\n",
        "        self.titular = titular\n",
        "        self.limite = limite\n",
        "        self._fatura = 0\n",
        "        \n",
        "    # O método gastar retira valores do saldo a medida do possivel (que não negative a conta)\n",
        "    def gastar(self, valor):\n",
        "        if self.saldo > valor:\n",
        "            self.saldo -= valor\n",
        "        else:\n",
        "            print('Saldo insuficiente.')\n",
        "        \n",
        "    # O método ganhar acrescenta valor ao saldo\n",
        "    def ganhar(self, valor):\n",
        "        self.saldo += valor\n",
        "        \n",
        "    # Esse método irá aumentar a fatura, mas antes irá conferir se o limite permite a operação\n",
        "    def gastarCredito(self, valor):\n",
        "        if((self._fatura + valor) <= self.limite):\n",
        "            self._fatura += valor\n",
        "        else:\n",
        "            print('Esta compra está acima do seu limite de compra.')\n",
        "       \n",
        "    # O método pagaFatura diminui a fatura a medidade que o saldo permite e o cliente quer\n",
        "    def pagaFatura(self, valor):\n",
        "        if(self.saldo >= valor):\n",
        "            if(0 >= self._fatura - valor):\n",
        "                self._fatura -= valor;\n",
        "                self.saldo -= valor;\n",
        "            else:\n",
        "                print('Este valor está acima da sua fatura de:', self._fatura)\n",
        "        else:\n",
        "            print('Você não possui saldo para esta operação')\n",
        "\n",
        "    #getter da fatura (isso será exeplicado junto com o underline do atributo, está tudo em ordem por aqui!)\n",
        "    @property\n",
        "    def fatura(self):\n",
        "        return self._fatura\n",
        "\n",
        "# Instanciamos a conta com os atributos exemplos\n",
        "conta = contaCorrente(1000000, 'Brian Andrade Nunes', 10000)\n",
        "\n",
        "# Exemplos de uso dos métodos\n",
        "\n",
        "print('Saldo:', conta.saldo)\n",
        "print('Comprando carrão novo...')\n",
        "conta.gastar(350000)\n",
        "print('Novo saldo:', conta.saldo)\n",
        "print()\n",
        "print('Fatura:', conta.fatura, ' | Limite:', conta.limite)\n",
        "print('Estourando o cartão com R$15.000...')\n",
        "conta.gastarCredito(15000)\n",
        "print('Tirando alguns itens do carrinho e gastando apenas R$7.500...')\n",
        "conta.gastarCredito(7500)\n",
        "print('Nova fatura:', conta.fatura, ' | Limite:', conta.limite)"
      ]
    }
  ]
}