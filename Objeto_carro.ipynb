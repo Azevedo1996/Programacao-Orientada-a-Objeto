{
  "nbformat": 4,
  "nbformat_minor": 0,
  "metadata": {
    "colab": {
      "name": "Objeto carro.ipynb",
      "provenance": [],
      "authorship_tag": "ABX9TyNUuOOCbyt5aCotR+bVdT6V",
      "include_colab_link": true
    },
    "kernelspec": {
      "name": "python3",
      "display_name": "Python 3"
    },
    "language_info": {
      "name": "python"
    }
  },
  "cells": [
    {
      "cell_type": "markdown",
      "metadata": {
        "id": "view-in-github",
        "colab_type": "text"
      },
      "source": [
        "<a href=\"https://colab.research.google.com/github/Azevedo1996/Programacao-Orientada-a-Objeto/blob/main/Objeto_carro.ipynb\" target=\"_parent\"><img src=\"https://colab.research.google.com/assets/colab-badge.svg\" alt=\"Open In Colab\"/></a>"
      ]
    },
    {
      "cell_type": "code",
      "execution_count": null,
      "metadata": {
        "id": "xmB-dcBhMrw9"
      },
      "outputs": [],
      "source": [
        "# Esse parâmetro object será melhor abordado já já quando falarmos de herança\n",
        "class Carro(object): # CLASSE == PLANTA\n",
        "    \"\"\"\n",
        "        Este aqui é o método do contrutor! Ele sempre tem esse nome.\n",
        "        Aqui nosso construtor recebe uma referência para o objeto que está contruindo: 'self'\n",
        "        e todos os estados que serão atribuidos aos atributos.\n",
        "    \"\"\"\n",
        "    def __init__(self, cor, ano, estado, velocidade): # CONSTRUTOR\n",
        "        self.cor = cor\n",
        "        self.ano = ano\n",
        "        self.estado = estado\n",
        "        self.velocidade = velocidade\n",
        "        \n",
        "    # O método acelerar nos permite aumentar a velocidade do carro baseado em uma aceleração e o tempo que ela é aplicada \n",
        "    def acelerar(self, aceleracao, tempo): # MÉTODO -> Usar o verbo!\n",
        "        self.velocidade += aceleracao * tempo\n",
        "        \n",
        "    # O método frear nos permite diminuir a velocidade do carro baseado em uma desaceleração e o tempo que ela é aplicada \n",
        "    def frear(self, desaceleracao, tempo): # MÉTODO -> Usar o verbo!\n",
        "        self.velocidade -= desaceleracao * tempo\n",
        "        \n",
        "    # O método pintar altera a cor do carro a partir da cor recebida nos parâmetros.\n",
        "    def pintar(self, novaCor): # MÉTODO -> Usar o verbo!\n",
        "        self.cor = novaCor\n",
        "        \n",
        "\"\"\" \n",
        "    Aqui estamos instanciando o objeto carro\n",
        "    Repare que chamamos a classe semelhante a uma função, e passamos os atributos que serão utilizados no construtor\n",
        "    Isso se deve pois estamos chamando o contrutor de uma classe para \"construir\" o nosso carro da maneira que pedimos\n",
        "\"\"\"\n",
        "\n",
        "fiesta = Carro('Vermelho', 2017, 'Novo', 0)\n",
        "\n",
        "# Exemplos de uso dos métodos\n",
        "\n",
        "# Podemos nos referir aos atributos de um objeto com o nome dele seguido de um ponto e o atributo desejado:\n",
        "\n",
        "print('Cor: ', fiesta.cor)\n",
        "print('Ano: ', fiesta.ano)\n",
        "print('Velocidade: ', fiesta.velocidade)\n",
        "\n",
        "print('\\nAcelerando fiesta 2m/s^2 por 5 segundos...\\n')\n",
        "fiesta.acelerar(2, 5) # CHAMANDO O MÉTODO\n",
        "\n",
        "print('Nova velocidade: ', fiesta.velocidade)\n",
        "\n",
        "# Note que podemos acrescentar atributos por fora da classe de maneira dinâmica\n",
        "fiesta.seguro  = True\n",
        "print(fiesta.seguro)"
      ]
    }
  ]
}